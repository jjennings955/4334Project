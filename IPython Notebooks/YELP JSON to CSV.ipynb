{
 "metadata": {
  "name": "",
  "signature": "sha256:3fe8c02863e7d312dd863479fdfc3e33252df4eb5001782f12ab7ba5bccb6c64"
 },
 "nbformat": 3,
 "nbformat_minor": 0,
 "worksheets": [
  {
   "cells": [
    {
     "cell_type": "code",
     "collapsed": false,
     "input": [
      "import pdb\n",
      "import json\n",
      "import pandas as pd\n",
      "from glob import glob\n",
      " \n",
      "def convert(x):\n",
      "    ''' Convert a json string to a flat python dictionary\n",
      "    which can be passed into Pandas. '''\n",
      "    ob = json.loads(x)\n",
      "    out = {}\n",
      "\n",
      "    for k, v in ob.items():\n",
      "        if isinstance(v, list):\n",
      "            out[k] = ','.join(str(itm) for itm in v)\n",
      "        elif isinstance(v, dict):\n",
      "            for kk, vv in v.items():\n",
      "                out['%s_%s' % (k, kk)] = vv\n",
      "        else:\n",
      "            out[k] = v\n",
      "               # del ob[k]\n",
      "\n",
      "    return out\n",
      "data = {}\n",
      "for json_filename in glob('Z:\\yelpdata\\yelp_dataset_challenge_academic_dataset\\*.json'):\n",
      "    if not 'busi' in json_filename:\n",
      "        continue\n",
      "    csv_filename = '%s.csv' % json_filename[:-5]\n",
      "    print('Converting %s to %s' % (json_filename, csv_filename))\n",
      "    df = pd.DataFrame([convert(line) for line in open(json_filename)]) \n",
      "    #df.to_csv(csv_filename)\n",
      "    data[json_filename] = df"
     ],
     "language": "python",
     "metadata": {},
     "outputs": [
      {
       "output_type": "stream",
       "stream": "stdout",
       "text": [
        "Converting Z:\\yelpdata\\yelp_dataset_challenge_academic_dataset\\yelp_academic_dataset_business.json to Z:\\yelpdata\\yelp_dataset_challenge_academic_dataset\\yelp_academic_dataset_business.csv\n"
       ]
      }
     ],
     "prompt_number": 3
    },
    {
     "cell_type": "code",
     "collapsed": false,
     "input": [
      "data['Z:\\\\yelpdata\\\\yelp_dataset_challenge_academic_dataset\\\\yelp_academic_dataset_review.json'].to_csv('reviews.csv', na_rep='0', columns=['business_id', 'date', 'review_id', 'stars', 'text'])\n"
     ],
     "language": "python",
     "metadata": {},
     "outputs": []
    },
    {
     "cell_type": "code",
     "collapsed": false,
     "input": [
      "users = data['Z:\\yelpdata\\yelp_dataset_challenge_academic_dataset\\yelp_academic_dataset_user.json']\n",
      "reviews = data['Z:\\yelpdata\\yelp_dataset_challenge_academic_dataset\\yelp_academic_dataset_review.json']"
     ],
     "language": "python",
     "metadata": {},
     "outputs": []
    },
    {
     "cell_type": "code",
     "collapsed": false,
     "input": [
      "users.columns"
     ],
     "language": "python",
     "metadata": {},
     "outputs": []
    },
    {
     "cell_type": "code",
     "collapsed": false,
     "input": [
      "reviews[reviews['business_id'] == '4bEjOyTaDG24SY5TxsaUNQ']"
     ],
     "language": "python",
     "metadata": {},
     "outputs": []
    },
    {
     "cell_type": "code",
     "collapsed": false,
     "input": [
      "businesses = data['Z:\\yelpdata\\yelp_dataset_challenge_academic_dataset\\yelp_academic_dataset_business.json']"
     ],
     "language": "python",
     "metadata": {},
     "outputs": [],
     "prompt_number": 5
    },
    {
     "cell_type": "code",
     "collapsed": false,
     "input": [
      "businesses.to_csv('businesses.csv', na_rep='0', columns=['business_id', 'city', 'review_count', 'stars', 'state', 'type'])"
     ],
     "language": "python",
     "metadata": {},
     "outputs": []
    },
    {
     "cell_type": "code",
     "collapsed": false,
     "input": [
      "from nltk.tokenize import sent_tokenize, RegexpTokenizer"
     ],
     "language": "python",
     "metadata": {},
     "outputs": []
    },
    {
     "cell_type": "code",
     "collapsed": false,
     "input": [
      "tokenizer = RegexpTokenizer('[a-zA-Z\\']+')\n",
      "with open('out2.txt', 'w') as fobj:\n",
      "    for row in reviews.index[0:30]:\n",
      "        sentences = sent_tokenize(reviews.ix[row]['text'])\n",
      "        for sentence in sentences:\n",
      "            if len(sentence) < 5:\n",
      "                continue\n",
      "            tokens = tokenizer.tokenize(sentence)\n",
      "            if len(tokens) < 4:\n",
      "                continue\n",
      "            else:\n",
      "               print(' '.join(tokens) + '\\n')\n",
      "\n",
      "\n"
     ],
     "language": "python",
     "metadata": {},
     "outputs": []
    },
    {
     "cell_type": "code",
     "collapsed": false,
     "input": [
      "restaurants = businesses[businesses.categories.str.contains(\"Restaurant\")]"
     ],
     "language": "python",
     "metadata": {},
     "outputs": [],
     "prompt_number": 24
    },
    {
     "cell_type": "code",
     "collapsed": false,
     "input": [
      "woo = pd.merge(reviews, restaurants, on='business_id', how='inner')"
     ],
     "language": "python",
     "metadata": {},
     "outputs": []
    },
    {
     "cell_type": "code",
     "collapsed": false,
     "input": [
      "z = iter(restaurants)"
     ],
     "language": "python",
     "metadata": {},
     "outputs": [],
     "prompt_number": 11
    },
    {
     "cell_type": "code",
     "collapsed": false,
     "input": [
      "restaurants.to_csv('restaurants.csv', na_rep='0', columns=['business_id', 'city', 'review_count', 'stars', 'state', 'type'])"
     ],
     "language": "python",
     "metadata": {},
     "outputs": [],
     "prompt_number": 25
    }
   ],
   "metadata": {}
  }
 ]
}